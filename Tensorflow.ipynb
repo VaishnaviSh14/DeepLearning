{
 "cells": [
  {
   "cell_type": "markdown",
   "id": "c06b9a15-4a61-46b3-8c2b-ffc19dad3eef",
   "metadata": {},
   "source": [
    "TensorFlow is an open source software library for high performance numerical computation. Its flexible architecture allows easy deployment of computation across a variety of platforms (CPUs, GPUs, TPUs), and from desktops to clusters of servers to mobile and edge devices.\n",
    "> Originally developed by researchers and engineers from the Google Brain team within Google’s AI organization, it comes with strong support for machine learning and deep learning and the flexible numerical computation core is used across many other scientific domains.\n",
    "within Google’s AI organization, it comes with strong support for machine learning and deep learning and the flexible numerical computation core is used across many other scientific domains.\n",
    "TensorFlow is an open source software library for high performance numerical computation. Its flexible architecture allows easy deployment of computation across a variety of platforms (CPUs, GPUs, TPUs), and from desktops to clusters of servers to mobile and edge devices. Originally developed by researchers and engineers from the Google Brain team within Google’s AI organization, it comes with strong support for machine learning and deep learning and the flexible numerical computation core is used across many other scientific domains."
   ]
  },
  {
   "cell_type": "code",
   "execution_count": 27,
   "id": "04d62d6b-bf68-4d0c-b963-fd835e1fd20d",
   "metadata": {},
   "outputs": [
    {
     "name": "stdout",
     "output_type": "stream",
     "text": [
      "Tensorflow version:2.13.0\n",
      "Eager execution: True\n"
     ]
    }
   ],
   "source": [
    "import tensorflow as tf\n",
    "import warnings\n",
    "warnings.filterwarnings('ignore')\n",
    "print(\"Tensorflow version:{}\".format(tf.__version__))\n",
    "print(\"Eager execution: {}\".format(tf.executing_eagerly()))\n"
   ]
  },
  {
   "cell_type": "markdown",
   "id": "4795850f-c322-4621-b7c5-57ad3d6b6043",
   "metadata": {},
   "source": [
    "## Tensor constant"
   ]
  },
  {
   "cell_type": "code",
   "execution_count": 28,
   "id": "f4a98836-e24a-49b7-ba35-5311ae93e84e",
   "metadata": {},
   "outputs": [
    {
     "data": {
      "text/plain": [
       "<tf.Tensor: shape=(), dtype=int32, numpy=42>"
      ]
     },
     "execution_count": 28,
     "metadata": {},
     "output_type": "execute_result"
    }
   ],
   "source": [
    "vaish = tf.constant(42)\n",
    "vaish"
   ]
  },
  {
   "cell_type": "code",
   "execution_count": 29,
   "id": "fa16e271-2fd5-42d2-9386-7e1320b44936",
   "metadata": {},
   "outputs": [
    {
     "data": {
      "text/plain": [
       "42"
      ]
     },
     "execution_count": 29,
     "metadata": {},
     "output_type": "execute_result"
    }
   ],
   "source": [
    "vaish.numpy()"
   ]
  },
  {
   "cell_type": "code",
   "execution_count": 30,
   "id": "9ee2682c-fc46-43ff-b7bc-4fa45cef94d0",
   "metadata": {},
   "outputs": [
    {
     "data": {
      "text/plain": [
       "1"
      ]
     },
     "execution_count": 30,
     "metadata": {},
     "output_type": "execute_result"
    }
   ],
   "source": [
    "##Specify the datatype\n",
    "pw = tf.constant(1,dtype = tf.int64)\n",
    "pw.numpy()"
   ]
  },
  {
   "cell_type": "code",
   "execution_count": 31,
   "id": "e8e6094a-c70e-477e-98d4-c37957ba02d5",
   "metadata": {},
   "outputs": [
    {
     "name": "stdout",
     "output_type": "stream",
     "text": [
      "tf.Tensor(\n",
      "[[4 2]\n",
      " [9 5]], shape=(2, 2), dtype=int32)\n"
     ]
    }
   ],
   "source": [
    "#Matrix form\n",
    "X = tf.constant([[4,2],[9,5]])\n",
    "print(X)"
   ]
  },
  {
   "cell_type": "code",
   "execution_count": 32,
   "id": "56849025-1e65-4d40-bc6e-9a88cffb85f5",
   "metadata": {},
   "outputs": [
    {
     "data": {
      "text/plain": [
       "array([[4, 2],\n",
       "       [9, 5]], dtype=int32)"
      ]
     },
     "execution_count": 32,
     "metadata": {},
     "output_type": "execute_result"
    }
   ],
   "source": [
    "X.numpy()"
   ]
  },
  {
   "cell_type": "code",
   "execution_count": 33,
   "id": "100e3a27-1d70-4b22-8833-73c6c425791a",
   "metadata": {},
   "outputs": [
    {
     "name": "stdout",
     "output_type": "stream",
     "text": [
      "shape: (2, 2)\n",
      "<dtype: 'int32'>\n"
     ]
    }
   ],
   "source": [
    "#Print datatype and shape\n",
    "print(\"shape:\",X.shape)\n",
    "print(X.dtype)"
   ]
  },
  {
   "cell_type": "code",
   "execution_count": 34,
   "id": "2bb6030f-88c5-489f-a780-3864091f42ff",
   "metadata": {},
   "outputs": [
    {
     "name": "stdout",
     "output_type": "stream",
     "text": [
      "tf.Tensor(\n",
      "[[1. 1. 1.]\n",
      " [1. 1. 1.]], shape=(2, 3), dtype=float32)\n"
     ]
    }
   ],
   "source": [
    "#two rows and 3 cols\n",
    "print(tf.ones(shape=(2,3)))"
   ]
  },
  {
   "cell_type": "code",
   "execution_count": 35,
   "id": "901c0c28-feb6-4498-be57-2c661777903c",
   "metadata": {},
   "outputs": [
    {
     "name": "stdout",
     "output_type": "stream",
     "text": [
      "tf.Tensor(\n",
      "[[0. 0.]\n",
      " [0. 0.]\n",
      " [0. 0.]], shape=(3, 2), dtype=float32)\n"
     ]
    }
   ],
   "source": [
    "print(tf.zeros(shape=(3,2)))"
   ]
  },
  {
   "cell_type": "code",
   "execution_count": 36,
   "id": "9e96ec6c-7326-499c-b983-c39dfe0e9ba2",
   "metadata": {},
   "outputs": [
    {
     "name": "stdout",
     "output_type": "stream",
     "text": [
      "tf.Tensor(\n",
      "[[4 6 8]\n",
      " [4 6 8]], shape=(2, 3), dtype=int32)\n"
     ]
    }
   ],
   "source": [
    "#Adding constants\n",
    "const1 = tf.constant([[3,4,5],[3,4,5]])\n",
    "const2 = tf.constant([[1,2,3],[1,2,3]])\n",
    "result = tf.add(const1 , const2)\n",
    "print(result)"
   ]
  },
  {
   "cell_type": "markdown",
   "id": "1f1d0da5-c4c8-4678-933f-1e08605e8df3",
   "metadata": {},
   "source": [
    "## Random constant"
   ]
  },
  {
   "cell_type": "code",
   "execution_count": 37,
   "id": "709ea403-8f6f-47d6-9409-69afcd7b1ce7",
   "metadata": {},
   "outputs": [
    {
     "data": {
      "text/plain": [
       "<tf.Tensor: shape=(2, 2), dtype=float32, numpy=\n",
       "array([[ 0.10105084, -0.3523583 ],\n",
       "       [-0.52853996, -0.3820071 ]], dtype=float32)>"
      ]
     },
     "execution_count": 37,
     "metadata": {},
     "output_type": "execute_result"
    }
   ],
   "source": [
    "tf.random.normal(shape=(2,2),mean = 0,stddev=1.0)"
   ]
  },
  {
   "cell_type": "code",
   "execution_count": 38,
   "id": "5fbcedf1-1cd4-4773-825e-0cf0ac7ebf58",
   "metadata": {},
   "outputs": [
    {
     "data": {
      "text/plain": [
       "<tf.Tensor: shape=(2, 2), dtype=int32, numpy=\n",
       "array([[5, 8],\n",
       "       [3, 2]], dtype=int32)>"
      ]
     },
     "execution_count": 38,
     "metadata": {},
     "output_type": "execute_result"
    }
   ],
   "source": [
    "tf.random.uniform(shape=(2,2),minval = 0,maxval = 10, dtype = tf.int32)"
   ]
  },
  {
   "cell_type": "markdown",
   "id": "10416457-9c3e-44a0-9766-23d30feeaf9a",
   "metadata": {},
   "source": [
    "## Variable"
   ]
  },
  {
   "cell_type": "code",
   "execution_count": 39,
   "id": "e958b9a9-14d6-4e46-9c9a-ec64ea88a86a",
   "metadata": {},
   "outputs": [
    {
     "data": {
      "text/plain": [
       "(24,\n",
       " <tf.Variable 'Variable:0' shape=() dtype=int32, numpy=42>,\n",
       " <tf.Variable 'Variable:0' shape=(2, 2, 3) dtype=float32, numpy=\n",
       " array([[[ 0.,  1.,  2.],\n",
       "         [ 3.,  4.,  5.]],\n",
       " \n",
       "        [[ 6.,  7.,  8.],\n",
       "         [ 9., 10., 11.]]], dtype=float32)>)"
      ]
     },
     "execution_count": 39,
     "metadata": {},
     "output_type": "execute_result"
    }
   ],
   "source": [
    "var0 = 24 #python variable\n",
    "var1 = tf.Variable(42)\n",
    "var2= tf.Variable([[[0.,1.,2,],[3.,4.,5.]],[[6.,7.,8.],[9.,10.,11.]]])\n",
    "var0,var1,var2"
   ]
  },
  {
   "cell_type": "code",
   "execution_count": 40,
   "id": "f8b0b2b3-3fe1-43e5-bbed-f61cbb2bb6a3",
   "metadata": {},
   "outputs": [
    {
     "data": {
      "text/plain": [
       "<tf.Variable 'Variable:0' shape=() dtype=float64, numpy=89.0>"
      ]
     },
     "execution_count": 40,
     "metadata": {},
     "output_type": "execute_result"
    }
   ],
   "source": [
    "#The dataype can be explicitly specified\n",
    "float_var64 = tf.Variable(89,dtype = tf.float64)\n",
    "float_var64"
   ]
  },
  {
   "cell_type": "code",
   "execution_count": 41,
   "id": "d0efa039-3121-4eb2-a543-421a0698da14",
   "metadata": {},
   "outputs": [
    {
     "data": {
      "text/plain": [
       "<tf.Variable 'Variable:0' shape=() dtype=float32, numpy=89.0>"
      ]
     },
     "execution_count": 41,
     "metadata": {},
     "output_type": "execute_result"
    }
   ],
   "source": [
    "# to reassign a variable\n",
    "var_reassign = tf.Variable(89.)\n",
    "var_reassign"
   ]
  },
  {
   "cell_type": "code",
   "execution_count": 42,
   "id": "9bb43690-1375-4034-9ba9-f2cad53b62b0",
   "metadata": {},
   "outputs": [
    {
     "data": {
      "text/plain": [
       "<tf.Variable 'Variable:0' shape=() dtype=float32, numpy=98.0>"
      ]
     },
     "execution_count": 42,
     "metadata": {},
     "output_type": "execute_result"
    }
   ],
   "source": [
    "var_reassign.assign(98.)\n",
    "var_reassign"
   ]
  },
  {
   "cell_type": "code",
   "execution_count": 43,
   "id": "c69ee761-490c-4ed2-b09d-2f79c6bb315d",
   "metadata": {},
   "outputs": [
    {
     "name": "stdout",
     "output_type": "stream",
     "text": [
      "<tf.Variable 'Variable:0' shape=(2, 2) dtype=float32, numpy=\n",
      "array([[0.5446535 , 0.66284484],\n",
      "       [0.8076884 , 0.72260696]], dtype=float32)>\n"
     ]
    }
   ],
   "source": [
    "initial_value = tf.random.normal(shape = (2,2))\n",
    "a = tf.Variable(initial_value)\n",
    "print(a)"
   ]
  },
  {
   "cell_type": "code",
   "execution_count": 44,
   "id": "8a6c90fb-37c9-4230-b3ac-bb97c42b21cf",
   "metadata": {},
   "outputs": [],
   "source": [
    "new_value = tf.random.normal(shape = (2,2))\n",
    "a.assign(new_value)\n",
    "for i in range(2):\n",
    "    for j in range(2):\n",
    "        assert a[i,j] == new_value[i,j]\n",
    "        "
   ]
  },
  {
   "cell_type": "code",
   "execution_count": 45,
   "id": "0dde041d-e2b3-4059-b79d-da256ab47047",
   "metadata": {},
   "outputs": [],
   "source": [
    "added_value = tf.random.normal(shape=(2,2))\n",
    "a.assign_add(added_value)\n",
    "for i in range(2):\n",
    "    for j in range(2):\n",
    "        assert a[i,j] == new_value[i,j]+added_value[i,j]"
   ]
  },
  {
   "cell_type": "code",
   "execution_count": 46,
   "id": "af511580-2bdb-4a66-a20b-047457fcd8fe",
   "metadata": {},
   "outputs": [
    {
     "name": "stdout",
     "output_type": "stream",
     "text": [
      "(2, 2, 3)\n"
     ]
    }
   ],
   "source": [
    "tensor= tf.Variable([[[0.,1.,2,],[3.,4.,5.]],[[6.,7.,8.],[9.,10.,11.]]])\n",
    "print(tensor.shape)"
   ]
  },
  {
   "cell_type": "code",
   "execution_count": 49,
   "id": "2f52735a-83f3-4990-8037-0157575126a8",
   "metadata": {},
   "outputs": [
    {
     "data": {
      "text/plain": [
       "<tf.Tensor: shape=(2, 6), dtype=float32, numpy=\n",
       "array([[ 0.,  1.,  2.,  3.,  4.,  5.],\n",
       "       [ 6.,  7.,  8.,  9., 10., 11.]], dtype=float32)>"
      ]
     },
     "execution_count": 49,
     "metadata": {},
     "output_type": "execute_result"
    }
   ],
   "source": [
    "tensor1 = tf.reshape(tensor,[2,6])# 2rows 6 cols\n",
    "tensor2 = tf.reshape(tensor,[1,12])#1 rows and 12 cols\n",
    "tensor1"
   ]
  },
  {
   "cell_type": "code",
   "execution_count": 50,
   "id": "7187c504-54b5-4bed-aa65-1488e49e0cfb",
   "metadata": {},
   "outputs": [
    {
     "data": {
      "text/plain": [
       "<tf.Tensor: shape=(1, 12), dtype=float32, numpy=\n",
       "array([[ 0.,  1.,  2.,  3.,  4.,  5.,  6.,  7.,  8.,  9., 10., 11.]],\n",
       "      dtype=float32)>"
      ]
     },
     "execution_count": 50,
     "metadata": {},
     "output_type": "execute_result"
    }
   ],
   "source": [
    "tensor2"
   ]
  },
  {
   "cell_type": "markdown",
   "id": "91ae9770-4d17-4f5f-86b7-e9b5b70b2073",
   "metadata": {},
   "source": [
    "## RANK(dimensions) of a tensor"
   ]
  },
  {
   "cell_type": "code",
   "execution_count": 52,
   "id": "87d2c93f-4c21-442b-b18b-35762dc86318",
   "metadata": {},
   "outputs": [
    {
     "data": {
      "text/plain": [
       "3"
      ]
     },
     "execution_count": 52,
     "metadata": {},
     "output_type": "execute_result"
    }
   ],
   "source": [
    "tf.rank(tensor).numpy()"
   ]
  },
  {
   "cell_type": "markdown",
   "id": "2bc65b41-404e-4538-a244-7e870d89bcab",
   "metadata": {},
   "source": [
    "## Specifying an element"
   ]
  },
  {
   "cell_type": "code",
   "execution_count": 53,
   "id": "a16b6c53-55e1-4d4f-973c-9d6e3725be9a",
   "metadata": {},
   "outputs": [
    {
     "data": {
      "text/plain": [
       "<tf.Tensor: shape=(), dtype=float32, numpy=8.0>"
      ]
     },
     "execution_count": 53,
     "metadata": {},
     "output_type": "execute_result"
    }
   ],
   "source": [
    "tensor3 = tensor[1,0,2] #slice 1 , row 0 , columns 2\n",
    "tensor3"
   ]
  },
  {
   "cell_type": "markdown",
   "id": "d0ae816c-d1c5-429e-ba6e-067cef6f12d8",
   "metadata": {},
   "source": [
    "## Casting a tensor to numpy/python variable"
   ]
  },
  {
   "cell_type": "code",
   "execution_count": 54,
   "id": "edcfe5e0-a833-45db-936b-d24a613818ae",
   "metadata": {},
   "outputs": [
    {
     "name": "stdout",
     "output_type": "stream",
     "text": [
      "[[[ 0.  1.  2.]\n",
      "  [ 3.  4.  5.]]\n",
      "\n",
      " [[ 6.  7.  8.]\n",
      "  [ 9. 10. 11.]]]\n"
     ]
    }
   ],
   "source": [
    "print(tensor.numpy())"
   ]
  },
  {
   "cell_type": "code",
   "execution_count": 55,
   "id": "2b4612ba-cabf-441c-8f56-370d7ad9915c",
   "metadata": {},
   "outputs": [
    {
     "name": "stdout",
     "output_type": "stream",
     "text": [
      "8.0\n"
     ]
    }
   ],
   "source": [
    "print(tensor[1,0,2].numpy())"
   ]
  },
  {
   "cell_type": "markdown",
   "id": "800cf122-8313-4ac8-a3a2-8f4933e6fcd2",
   "metadata": {},
   "source": [
    "## Size"
   ]
  },
  {
   "cell_type": "code",
   "execution_count": 57,
   "id": "6de8d76e-7b81-4d64-a5c2-dfd6dd8e3873",
   "metadata": {},
   "outputs": [
    {
     "data": {
      "text/plain": [
       "12"
      ]
     },
     "execution_count": 57,
     "metadata": {},
     "output_type": "execute_result"
    }
   ],
   "source": [
    "tensor_size = tf.size(input = tensor).numpy()\n",
    "tensor_size"
   ]
  },
  {
   "cell_type": "markdown",
   "id": "ced50afd-008b-43c4-ad74-861e66d6e509",
   "metadata": {},
   "source": [
    "## Mathementical opearations"
   ]
  },
  {
   "cell_type": "code",
   "execution_count": 59,
   "id": "8db65fce-4eb0-48e8-afe2-288df753fbd2",
   "metadata": {},
   "outputs": [
    {
     "name": "stdout",
     "output_type": "stream",
     "text": [
      "tf.Tensor(\n",
      "[[ 0.06376745 -0.01287734]\n",
      " [ 0.01615601  0.09939475]], shape=(2, 2), dtype=float32)\n",
      "tf.Tensor(\n",
      "[[-1.3841348  -0.9461991 ]\n",
      " [-3.3021653  -0.03553364]], shape=(2, 2), dtype=float32)\n",
      "tf.Tensor(\n",
      "[[-1.3203673  -0.95907646]\n",
      " [-3.2860093   0.06386111]], shape=(2, 2), dtype=float32)\n",
      "tf.Tensor(\n",
      "[[1.7433699e+00 9.1982764e-01]\n",
      " [1.0797857e+01 4.0782411e-03]], shape=(2, 2), dtype=float32)\n",
      "tf.Tensor(\n",
      "[[0.26703718 0.38324666]\n",
      " [0.03740282 1.0659443 ]], shape=(2, 2), dtype=float32)\n"
     ]
    }
   ],
   "source": [
    "a = tf.random.normal(shape=(2,2))\n",
    "b = tf.random.normal(shape=(2,2))\n",
    "c = a+b\n",
    "d = tf.square(c)\n",
    "e = tf.exp(c)\n",
    "print(a)\n",
    "print(b)\n",
    "print(c)\n",
    "print(d)\n",
    "print(e)"
   ]
  },
  {
   "cell_type": "code",
   "execution_count": 60,
   "id": "8ba89fff-4320-48cc-892c-089ab62383ed",
   "metadata": {},
   "outputs": [
    {
     "data": {
      "text/plain": [
       "<tf.Tensor: shape=(2, 2, 3), dtype=float32, numpy=\n",
       "array([[[  0.,   1.,   4.],\n",
       "        [  9.,  16.,  25.]],\n",
       "\n",
       "       [[ 36.,  49.,  64.],\n",
       "        [ 81., 100., 121.]]], dtype=float32)>"
      ]
     },
     "execution_count": 60,
     "metadata": {},
     "output_type": "execute_result"
    }
   ],
   "source": [
    "tensor * tensor"
   ]
  },
  {
   "cell_type": "markdown",
   "id": "92532498-5e62-4a61-83e3-1c64e7b27dfe",
   "metadata": {},
   "source": [
    "## Broadcasting"
   ]
  },
  {
   "cell_type": "code",
   "execution_count": 61,
   "id": "89e4883b-6004-4fdb-85a5-cf32068513e8",
   "metadata": {},
   "outputs": [
    {
     "name": "stdout",
     "output_type": "stream",
     "text": [
      "tf.Tensor(\n",
      "[[[ 0.  4.  8.]\n",
      "  [12. 16. 20.]]\n",
      "\n",
      " [[24. 28. 32.]\n",
      "  [36. 40. 44.]]], shape=(2, 2, 3), dtype=float32)\n"
     ]
    }
   ],
   "source": [
    "tensor4 = tensor*4\n",
    "print(tensor4)"
   ]
  },
  {
   "cell_type": "markdown",
   "id": "303d8458-e159-4a06-89c0-835de67d3904",
   "metadata": {},
   "source": [
    "## Transpose matric multiplication"
   ]
  },
  {
   "cell_type": "code",
   "execution_count": 62,
   "id": "89feed55-cfc2-48d0-bd73-a29c7fa88039",
   "metadata": {},
   "outputs": [
    {
     "data": {
      "text/plain": [
       "<tf.Tensor: shape=(1, 1), dtype=int32, numpy=array([[14]], dtype=int32)>"
      ]
     },
     "execution_count": 62,
     "metadata": {},
     "output_type": "execute_result"
    }
   ],
   "source": [
    "matrix1 = tf.constant([[3,4,3]])\n",
    "matrix2 = tf.constant([[1,2,1]])\n",
    "tf.matmul(matrix1,tf.transpose(matrix2))"
   ]
  },
  {
   "cell_type": "markdown",
   "id": "e508f2d4-7bbe-4a8c-bb7a-183cbf8d3da4",
   "metadata": {},
   "source": [
    "## Casting"
   ]
  },
  {
   "cell_type": "code",
   "execution_count": 64,
   "id": "9b033865-97c9-42c2-a9be-14c387560b21",
   "metadata": {},
   "outputs": [
    {
     "name": "stdout",
     "output_type": "stream",
     "text": [
      "<tf.Variable 'Variable:0' shape=(2, 2, 3) dtype=float32, numpy=\n",
      "array([[[ 0.,  1.,  2.],\n",
      "        [ 3.,  4.,  5.]],\n",
      "\n",
      "       [[ 6.,  7.,  8.],\n",
      "        [ 9., 10., 11.]]], dtype=float32)>\n"
     ]
    }
   ],
   "source": [
    "print(tensor)\n",
    "i = tf.cast(tensor1,dtype = tf.int32)"
   ]
  },
  {
   "cell_type": "markdown",
   "id": "9e78f447-29e9-46f8-814d-174676f9a620",
   "metadata": {},
   "source": [
    "## With truncation"
   ]
  },
  {
   "cell_type": "code",
   "execution_count": 67,
   "id": "7c68bb6f-d72d-4527-b483-d4547bd82175",
   "metadata": {},
   "outputs": [
    {
     "data": {
      "text/plain": [
       "<tf.Tensor: shape=(), dtype=int32, numpy=4>"
      ]
     },
     "execution_count": 67,
     "metadata": {},
     "output_type": "execute_result"
    }
   ],
   "source": [
    "j = tf.cast(tf.constant(4.9),dtype = tf.int32)\n",
    "j"
   ]
  },
  {
   "cell_type": "markdown",
   "id": "77af2e8f-d8f4-400d-ba64-2cf4cbfe205d",
   "metadata": {},
   "source": [
    "## Declaring ragged tensor"
   ]
  },
  {
   "cell_type": "code",
   "execution_count": 71,
   "id": "6621642d-ba7a-40ce-8c37-e45a4ff8b5d9",
   "metadata": {},
   "outputs": [
    {
     "name": "stdout",
     "output_type": "stream",
     "text": [
      "<tf.RaggedTensor [[5, 2, 6, 1], [], [4, 10, 7], [8], [6, 7]]>\n",
      "tf.Tensor([5 2 6 1], shape=(4,), dtype=int32)\n",
      "tf.Tensor([], shape=(0,), dtype=int32)\n",
      "tf.Tensor([ 4 10  7], shape=(3,), dtype=int32)\n",
      "tf.Tensor([8], shape=(1,), dtype=int32)\n",
      "tf.Tensor([6 7], shape=(2,), dtype=int32)\n"
     ]
    }
   ],
   "source": [
    "ragged = tf.ragged.constant([[5,2,6,1],[],[4,10,7],[8],[6,7]])\n",
    "print(ragged)\n",
    "print(ragged[0,:])\n",
    "print(ragged[1,:])\n",
    "print(ragged[2,:])\n",
    "print(ragged[3,:])\n",
    "print(ragged[4,:])\n"
   ]
  },
  {
   "cell_type": "markdown",
   "id": "68a79796-a842-4003-b1a2-b7c550683b5c",
   "metadata": {},
   "source": [
    "## Find the squaed difference between two tensors"
   ]
  },
  {
   "cell_type": "code",
   "execution_count": 73,
   "id": "83e12534-22c7-4128-9bdf-eae50531df88",
   "metadata": {},
   "outputs": [
    {
     "data": {
      "text/plain": [
       "<tf.Tensor: shape=(5,), dtype=int32, numpy=array([16,  4,  0,  4, 36], dtype=int32)>"
      ]
     },
     "execution_count": 73,
     "metadata": {},
     "output_type": "execute_result"
    }
   ],
   "source": [
    "varx = [1,3,5,7,11]\n",
    "vary = 5 # 1-5 = 4 and square of 4 = 16 \n",
    "varz = tf.math.squared_difference(varx,vary)\n",
    "varz"
   ]
  },
  {
   "cell_type": "markdown",
   "id": "1e5ea13b-116f-428b-96eb-ca6d677d0fa2",
   "metadata": {},
   "source": [
    "## Mean"
   ]
  },
  {
   "cell_type": "code",
   "execution_count": 74,
   "id": "16282610-7c86-40fd-a6bf-2fceb740356b",
   "metadata": {},
   "outputs": [],
   "source": [
    "numbers = tf.constant([[4.,5.],[7.,3.]])\n"
   ]
  },
  {
   "cell_type": "code",
   "execution_count": 75,
   "id": "7b5ed0d6-aa78-4f83-bd80-2761e0f3d689",
   "metadata": {},
   "outputs": [
    {
     "data": {
      "text/plain": [
       "<tf.Tensor: shape=(), dtype=float32, numpy=4.75>"
      ]
     },
     "execution_count": 75,
     "metadata": {},
     "output_type": "execute_result"
    }
   ],
   "source": [
    "tf.reduce_mean(input_tensor = numbers)"
   ]
  },
  {
   "cell_type": "code",
   "execution_count": 77,
   "id": "59d78f1e-9e63-468c-9d02-95221fac0583",
   "metadata": {},
   "outputs": [
    {
     "data": {
      "text/plain": [
       "<tf.Tensor: shape=(2,), dtype=float32, numpy=array([5.5, 4. ], dtype=float32)>"
      ]
     },
     "execution_count": 77,
     "metadata": {},
     "output_type": "execute_result"
    }
   ],
   "source": [
    "# find mean across columns\n",
    "tf.reduce_mean(input_tensor = numbers,axis = 0)"
   ]
  },
  {
   "cell_type": "markdown",
   "id": "af028bf8-c007-4770-b68f-7238970dc231",
   "metadata": {},
   "source": [
    "## Setting the seed"
   ]
  },
  {
   "cell_type": "code",
   "execution_count": 82,
   "id": "c4c89c5e-720d-4089-a7b4-bbf84e839126",
   "metadata": {},
   "outputs": [
    {
     "name": "stdout",
     "output_type": "stream",
     "text": [
      "tf.Tensor(\n",
      "[[4 6]\n",
      " [5 2]], shape=(2, 2), dtype=int32)\n",
      "tf.Tensor(\n",
      "[[9 7]\n",
      " [9 4]], shape=(2, 2), dtype=int32)\n"
     ]
    }
   ],
   "source": [
    "tf.random.set_seed(11)# everytime it will generate same value\n",
    "ran1 = tf.random.uniform(shape = (2,2),maxval = 10, dtype = tf.int32)\n",
    "ran2 = tf.random.uniform(shape = (2,2), maxval = 10, dtype = tf.int32)\n",
    "print(ran1)\n",
    "print(ran2)"
   ]
  },
  {
   "cell_type": "code",
   "execution_count": 85,
   "id": "fc25ad22-4962-440a-b44a-52438bb18ff3",
   "metadata": {},
   "outputs": [
    {
     "name": "stdout",
     "output_type": "stream",
     "text": [
      "tf.Tensor(\n",
      "[[ 5  5 10]\n",
      " [ 2  2  4]\n",
      " [ 4  2  6]\n",
      " [ 1  4  5]\n",
      " [ 3  1  4]\n",
      " [ 5  5 10]\n",
      " [ 6  1  7]\n",
      " [ 1  3  4]\n",
      " [ 2  5  7]\n",
      " [ 3  6  9]], shape=(10, 3), dtype=int32)\n"
     ]
    }
   ],
   "source": [
    "dice1 = tf.Variable(tf.random.uniform([10,1],minval = 1, maxval = 7 , dtype = tf.int32))\n",
    "dice2 = tf.Variable(tf.random.uniform([10,1],minval = 1, maxval = 7 , dtype = tf.int32))\n",
    "dice_sum = dice1 + dice2\n",
    "\n",
    "resulting_matrix = tf.concat(values = [dice1 , dice2 , dice_sum],axis = 1)\n",
    "print(resulting_matrix)"
   ]
  },
  {
   "cell_type": "code",
   "execution_count": 89,
   "id": "fb519a7b-3573-4155-b53d-950f8e5a8812",
   "metadata": {},
   "outputs": [
    {
     "name": "stdout",
     "output_type": "stream",
     "text": [
      "tf.Tensor([  2  11   5  42   7  19  -6 -11  29], shape=(9,), dtype=int32)\n",
      "index of max tf.Tensor(3, shape=(), dtype=int64)\n",
      "max element 42\n",
      "index of min 7\n",
      "min element -11\n"
     ]
    }
   ],
   "source": [
    "## Argument(index)\n",
    "t5 = tf.constant([2,11,5,42,7,19,-6,-11,29])\n",
    "print(t5)\n",
    "\n",
    "i = tf.argmax(input = t5)\n",
    "print(\"index of max\",i)\n",
    "print(\"max element\",t5[i].numpy())\n",
    "\n",
    "i = tf.argmin(input = t5,axis = 0).numpy()\n",
    "print(\"index of min\",i)\n",
    "print(\"min element\",t5[i].numpy())"
   ]
  },
  {
   "cell_type": "markdown",
   "id": "3ba8934e-05c1-4b7b-8931-aef4bda1edcf",
   "metadata": {},
   "source": [
    "## Saving and restoring tensor values using a checkpoint"
   ]
  },
  {
   "cell_type": "code",
   "execution_count": 91,
   "id": "fe77a760-8b17-4b90-a5c3-ca25bf4c2220",
   "metadata": {},
   "outputs": [
    {
     "name": "stdout",
     "output_type": "stream",
     "text": [
      "<tf.Variable 'Variable:0' shape=(2, 4) dtype=int32, numpy=\n",
      "array([[0, 0, 0, 0],\n",
      "       [0, 0, 0, 0]], dtype=int32)>\n",
      "<tf.Variable 'Variable:0' shape=(2, 4) dtype=int32, numpy=\n",
      "array([[ 1,  3,  5,  7],\n",
      "       [11, 13, 17, 19]], dtype=int32)>\n"
     ]
    }
   ],
   "source": [
    "variable = tf.Variable([[1,3,5,7],[11,13,17,19]])\n",
    "checkpoint = tf.train.Checkpoint(var = variable)\n",
    "save_path = checkpoint.save('./vars')\n",
    "variable.assign([[0,0,0,0],[0,0,0,0]])\n",
    "print(variable)\n",
    "checkpoint.restore(save_path)\n",
    "print(variable)\n",
    "                            "
   ]
  },
  {
   "cell_type": "markdown",
   "id": "f79adda6-01c1-48de-8c6c-d8fd1202f8fb",
   "metadata": {},
   "source": [
    "## tf.function"
   ]
  },
  {
   "cell_type": "code",
   "execution_count": 92,
   "id": "d4bccc9a-b068-43dc-babc-cd100e2b2a1d",
   "metadata": {},
   "outputs": [],
   "source": [
    "def f1(x,y):\n",
    "    return tf.reduce_mean(input_tensor=tf.multiply(x**2,5)+y**2)\n",
    "f2 = tf.function(f1)\n",
    "x = tf.constant([4.,-5.])\n",
    "y = tf.constant([2.,3.])\n",
    "assert f1(x,y).numpy() == f2(x,y).numpy()"
   ]
  },
  {
   "cell_type": "code",
   "execution_count": 93,
   "id": "7a7a6a72-253b-4640-acd0-5290ae84e615",
   "metadata": {},
   "outputs": [
    {
     "data": {
      "text/plain": [
       "109.0"
      ]
     },
     "execution_count": 93,
     "metadata": {},
     "output_type": "execute_result"
    }
   ],
   "source": [
    "(5*pow(4,2)+pow(2,2)+5*pow(-5,2)+pow(3,2))/2"
   ]
  },
  {
   "cell_type": "markdown",
   "id": "7e108e46-066d-4a82-b542-bf0d7ced80a6",
   "metadata": {},
   "source": [
    "## Calculate gradient"
   ]
  },
  {
   "cell_type": "code",
   "execution_count": 94,
   "id": "c66ebf3f-255c-425f-a9db-6d4bfd60e38a",
   "metadata": {},
   "outputs": [
    {
     "name": "stdout",
     "output_type": "stream",
     "text": [
      "tf.Tensor(\n",
      "[[-0.1684204 -0.5020665]\n",
      " [ 0.9471321  0.5898169]], shape=(2, 2), dtype=float32)\n"
     ]
    }
   ],
   "source": [
    "a = tf.random.normal(shape=(2,2))\n",
    "b = tf.random.normal(shape=(2,2))\n",
    "\n",
    "with tf.GradientTape() as tape:\n",
    "    tape.watch(a)\n",
    "    c = tf.sqrt(tf.square(a)+tf.square(b))\n",
    "    dc_da = tape.gradient(c,a)\n",
    "    print(dc_da)"
   ]
  },
  {
   "cell_type": "code",
   "execution_count": 96,
   "id": "763a39bd-19f1-4d8c-9cc7-6fb10848baff",
   "metadata": {},
   "outputs": [
    {
     "name": "stdout",
     "output_type": "stream",
     "text": [
      "tf.Tensor(\n",
      "[[-0.1684204 -0.5020665]\n",
      " [ 0.9471321  0.5898169]], shape=(2, 2), dtype=float32)\n"
     ]
    }
   ],
   "source": [
    "a = tf.Variable(a)\n",
    "\n",
    "with tf.GradientTape() as tape:\n",
    "    c = tf.sqrt(tf.square(a)+tf.square(b))\n",
    "    dc_da = tape.gradient(c,a)\n",
    "    print(dc_da)"
   ]
  },
  {
   "cell_type": "code",
   "execution_count": 97,
   "id": "c597104c-ea35-4e9b-9e99-d0b20004673a",
   "metadata": {},
   "outputs": [
    {
     "name": "stdout",
     "output_type": "stream",
     "text": [
      "tf.Tensor(\n",
      "[[0.57568985 0.7655419 ]\n",
      " [0.12753117 0.9209411 ]], shape=(2, 2), dtype=float32)\n"
     ]
    }
   ],
   "source": [
    "#double derivative\n",
    "with tf.GradientTape() as outer_tape:\n",
    "    with tf.GradientTape() as tape:\n",
    "       c = tf.sqrt(tf.square(a)+tf.square(b))\n",
    "       dc_da = tape.gradient(c,a)\n",
    "    d2c_d2a = outer_tape.gradient(dc_da,a)\n",
    "    \n",
    "    print(d2c_d2a)"
   ]
  },
  {
   "cell_type": "code",
   "execution_count": null,
   "id": "a16de04e-32c8-4411-b103-6f18e35dc2d1",
   "metadata": {},
   "outputs": [],
   "source": []
  }
 ],
 "metadata": {
  "kernelspec": {
   "display_name": "Python 3 (ipykernel)",
   "language": "python",
   "name": "python3"
  },
  "language_info": {
   "codemirror_mode": {
    "name": "ipython",
    "version": 3
   },
   "file_extension": ".py",
   "mimetype": "text/x-python",
   "name": "python",
   "nbconvert_exporter": "python",
   "pygments_lexer": "ipython3",
   "version": "3.10.8"
  }
 },
 "nbformat": 4,
 "nbformat_minor": 5
}
